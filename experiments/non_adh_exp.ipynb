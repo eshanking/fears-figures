{
 "cells": [
  {
   "cell_type": "code",
   "execution_count": 3,
   "metadata": {},
   "outputs": [],
   "source": [
    "from fears.population import Population\n",
    "from fears.experiment import Experiment\n",
    "import numpy as np\n",
    "\n",
    "# k_abs = [0.005,0.007,0.009,0.011]\n",
    "\n",
    "# for k in k_abs:\n",
    "#     p = Population(death_model = 'pharmacodynamic',n_sims=1,max_dose=10**2,n_timestep=500,dwell=True,dwell_time=24*4,k_abs=k,k_elim=0)\n",
    "#     p.simulate()\n",
    "np.random.seed(2024)\n",
    "\n",
    "init_counts = np.zeros(16)\n",
    "init_counts[0] = 10**5\n",
    "\n",
    "options = {\n",
    "    'mut_rate':1.4*10**-8,\n",
    "    'use_carrying_cap':True,\n",
    "    'carrying_cap':10**10,\n",
    "    'dwell':True,\n",
    "    'dwell_time':24*4,\n",
    "    'death_model':'pharmacodynamic',\n",
    "    'k_elim':0,\n",
    "    'n_time_step':1000,\n",
    "    'plot':False,\n",
    "    'k_abs':0.95,\n",
    "    'k_elim':0.00839,\n",
    "    'max_dose':20,\n",
    "    'regimen_length':21*24,\n",
    "}\n",
    "\n",
    "p = np.array([0.0,0.2,0.4,0.6,0.8])\n",
    "# p = np.array([0.0])"
   ]
  },
  {
   "cell_type": "code",
   "execution_count": 4,
   "metadata": {},
   "outputs": [],
   "source": [
    "# max_doses=[100]\n",
    "# slopes = [0.004,0.006,0.008,0.01]\n",
    "# slopes = np.array([2,4,6,8,10])*10**-3\n",
    "n_sims = 1000\n",
    "debug=False\n",
    "\n",
    "experiment_type = 'drug-regimen'\n",
    "\n",
    "e = Experiment(experiment_type=experiment_type,\n",
    "                n_sims=n_sims,\n",
    "                prob_drops=p,\n",
    "                population_options = options,\n",
    "                results_folder='results',\n",
    "                debug=debug)\n",
    "\n",
    "e.run_experiment()"
   ]
  }
 ],
 "metadata": {
  "kernelspec": {
   "display_name": "base",
   "language": "python",
   "name": "python3"
  },
  "language_info": {
   "codemirror_mode": {
    "name": "ipython",
    "version": 3
   },
   "file_extension": ".py",
   "mimetype": "text/x-python",
   "name": "python",
   "nbconvert_exporter": "python",
   "pygments_lexer": "ipython3",
   "version": "3.8.13"
  },
  "orig_nbformat": 4
 },
 "nbformat": 4,
 "nbformat_minor": 2
}
